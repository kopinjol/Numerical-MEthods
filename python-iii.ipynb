{
 "cells": [
  {
   "cell_type": "markdown",
   "id": "20f7ffc3-f610-4664-bdd4-0b049f34f642",
   "metadata": {},
   "source": [
    "# Least Square Fit\n",
    "## Linear Regression\n",
    "\n",
    "In linear regression we fit a straight line to the given data. A residual is defined as the difference between the true values of the ordinate and the projected values by the linear model. Hence, \n",
    "$$e = y - a_0 - a_1x.$$\n",
    "\n",
    "A linear least square fit is obtained by minimizing the sum of squares of the residuals. i.e.\n",
    "$$S_r = \\sum_{i=1}^{n}{e_i}^2 = \\sum_{i=1}^{n} (y_i - a_0 - a_1x_i).$$\n",
    "\n",
    "So, we need the values of $a_0$ and $a_1$ to determine the line that minimizes the sum of the squres of the residuals. Now to mminimize the sum of the squares, we can differentiate with respect to each unknown coefficient, i.e.\n",
    "\\begin{align}\n",
    "\\frac{\\partial S_r}{\\partial a_0} &= -2 \\sum(y_i - a_0 - a_1x_i) \\\\\n",
    "\\frac{\\partial S_r}{\\partial a_1} &= -2 \\sum[(y_i - a_0 - a_1x_i)x_i]\n",
    "\\end{align}\n",
    "\n",
    "Setting these derivatives equal to zero will result in a minimum of $S_r$, which gives us the equations,\n",
    "\\begin{align}\n",
    "a_1 &= \\frac{n\\sum x_i y_i - \\sum x_i \\sum y_i}{n\\sum x_i^2 - (\\sum x_i)^2} \\\\\n",
    "a_0 &= \\bar{y} - a_1 \\bar{x}\n",
    "\\end{align}\n",
    "\n",
    "We will do linear regression over the following data stored in the file $data.txt$.\n",
    "\n"
   ]
  },
  {
   "cell_type": "code",
   "execution_count": 3,
   "id": "25165b3f-497d-475e-b544-f4fc1770e740",
   "metadata": {},
   "outputs": [
    {
     "name": "stdout",
     "output_type": "stream",
     "text": [
      "['1', '10', '25', '100', '250\\n']\n",
      "['2', '20', '70', '400', '1400\\n']\n",
      "['3', '30', '380', '900', '11400\\n']\n",
      "['4', '40', '550', '1600', '22000\\n']\n",
      "['5', '50', '610', '2500', '30500\\n']\n",
      "['6', '60', '1220', '3600', '73200\\n']\n",
      "['7', '70', '830', '4900', '58100\\n']\n",
      "['8', '80', '1450', '6400', '116000\\n']\n"
     ]
    }
   ],
   "source": [
    "file=open(\"data.txt\")\n",
    "lines=[]\n",
    "for line in file:\n",
    "    lines = line.split(\"\\t\")\n",
    "    print(lines)\n"
   ]
  },
  {
   "cell_type": "markdown",
   "id": "a73c8ea7-9649-44bf-a037-a1524cc3218c",
   "metadata": {},
   "source": [
    "**The code below displays the linear regression process**"
   ]
  },
  {
   "cell_type": "code",
   "execution_count": 4,
   "id": "3f988f69-d34d-42bf-ab6e-8eb6cf01b540",
   "metadata": {},
   "outputs": [
    {
     "name": "stdout",
     "output_type": "stream",
     "text": [
      "String words\n",
      " ['1', '10', '25', '100', '250\\n']\n",
      "String words\n",
      " ['2', '20', '70', '400', '1400\\n']\n",
      "String words\n",
      " ['3', '30', '380', '900', '11400\\n']\n",
      "String words\n",
      " ['4', '40', '550', '1600', '22000\\n']\n",
      "String words\n",
      " ['5', '50', '610', '2500', '30500\\n']\n",
      "String words\n",
      " ['6', '60', '1220', '3600', '73200\\n']\n",
      "String words\n",
      " ['7', '70', '830', '4900', '58100\\n']\n",
      "String words\n",
      " ['8', '80', '1450', '6400', '116000\\n']\n",
      "8\n",
      "0.0\n",
      "Int words \n",
      " ['1', '10', '25', '100', '250\\n']\n",
      "Int words \n",
      " ['2', '20', '70', '400', '1400\\n']\n",
      "Int words \n",
      " ['3', '30', '380', '900', '11400\\n']\n",
      "Int words \n",
      " ['4', '40', '550', '1600', '22000\\n']\n",
      "Int words \n",
      " ['5', '50', '610', '2500', '30500\\n']\n",
      "Int words \n",
      " ['6', '60', '1220', '3600', '73200\\n']\n",
      "Int words \n",
      " ['7', '70', '830', '4900', '58100\\n']\n",
      "Int words \n",
      " ['8', '80', '1450', '6400', '116000\\n']\n",
      "[[   250.   1400.  11400.  22000.  30500.  73200.  58100. 116000.]]\n",
      "x := \n",
      "\n",
      "[[10. 20. 30. 40. 50. 60. 70. 80.]]\n",
      "8\n",
      "280.0 3685.0 14000.0 196850.0\n",
      "16.160714285714285\n",
      "-105.0\n",
      "f :=  \n",
      "\n",
      "[[  56.60714286  218.21428571  379.82142857  541.42857143  703.03571429\n",
      "   864.64285714 1026.25       1187.85714286]]\n"
     ]
    },
    {
     "data": {
      "image/png": "[encoded data removed]",
      "text/plain": [
       "<Figure size 432x288 with 1 Axes>"
      ]
     },
     "metadata": {
      "needs_background": "light"
     },
     "output_type": "display_data"
    }
   ],
   "source": [
    "import numpy as np\n",
    "import matplotlib.pyplot as plt\n",
    "\n",
    "\n",
    "file = open(\"data.txt\")\n",
    "for line in file:\n",
    "\twords = line.split(\"\\t\")\n",
    "\tprint(\"String words\\n\", words)\t\n",
    "\n",
    "n = int(words[0])\n",
    "print(n)\n",
    "x = np.zeros((1, n))\n",
    "y = np.zeros((1, n))\n",
    "x2 = np.zeros((1, n))\n",
    "xy = np.zeros((1, n))\n",
    "print(x[0][0])\n",
    "\n",
    "i = 0\n",
    "file.seek(0,0)\n",
    "for lines in file:\n",
    "        words = lines.split(\"\\t\")\n",
    "        x[0][i] = int(words[1])\n",
    "        y[0][i] = int(words[2])\n",
    "        x2[0][i] = int(words[3])\n",
    "        xy[0][i] = int(words[4])\n",
    "        i += 1\n",
    "        print(\"Int words \\n\", words)\n",
    "\n",
    "print(xy)\n",
    "#x[0][1] = 8\n",
    "print(\"x := \\n\")\n",
    "print(x)\n",
    "file.close()\n",
    "\n",
    "\n",
    "n = len(x[0])\n",
    "print(n)\n",
    "\n",
    "sumx = 0.0\n",
    "sumy = 0.0\n",
    "sumxy = 0.0\n",
    "sumx2 = 0.0\n",
    "for i in range(0,7):\n",
    "        sumx = sumx + x[0][i]\n",
    "        sumy = sumy + y[0][i]\n",
    "        sumxy = sumxy + xy[0][i]\n",
    "        sumx2 = sumx2 + x2[0][i]\n",
    "\n",
    "print(sumx, sumy, sumx2, sumxy)\n",
    "\n",
    "a1 = (n*sumxy - sumx*sumy)/(n*sumx2 - (sumx)**2)\n",
    "print(a1)\n",
    "a0 = (sumy/n) - a1*(sumx/n)\n",
    "print(a0)\n",
    "\n",
    "f = np.zeros((1, n))\n",
    "for i in range(0, 8):\n",
    "        f[0][i] = a0 + a1*x[0][i]\n",
    "\n",
    "print(\"f :=  \\n\")\n",
    "print(f)\n",
    "plt.scatter(x[0], y[0])\n",
    "plt.plot(x[0], f[0])\n",
    "plt.show()"
   ]
  },
  {
   "cell_type": "code",
   "execution_count": null,
   "id": "6ca6a532-b108-4d4f-8059-8e61a054670e",
   "metadata": {},
   "outputs": [],
   "source": []
  }
 ],
 "metadata": {
  "kernelspec": {
   "display_name": "Python 3 (ipykernel)",
   "language": "python",
   "name": "python3"
  },
  "language_info": {
   "codemirror_mode": {
    "name": "ipython",
    "version": 3
   },
   "file_extension": ".py",
   "mimetype": "text/x-python",
   "name": "python",
   "nbconvert_exporter": "python",
   "pygments_lexer": "ipython3",
   "version": "3.9.7"
  }
 },
 "nbformat": 4,
 "nbformat_minor": 5
}
