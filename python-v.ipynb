{
 "cells": [
  {
   "cell_type": "markdown",
   "id": "ad79e47e-fd10-4199-abfb-df65969b38ca",
   "metadata": {},
   "source": [
    "# Gauss Elimination\n",
    "## Naive Gauss Elimination\n",
    "\n",
    "\n",
    "Naive Gauss Elimination is a standard method for solving linear system of equations. It is the simplest of all elimination methods and also not suitable for many situations. Although pivoting makes it more stable against roundoff errors and errors introduced due to ill-conditioning of the system, it is still not the method of choice in many commercial applications. \n",
    "\n",
    "\n",
    "The elimination methods start with the representation of the linear system in terms of matrices. A $3 \\times 3$ system can be represented by the following matrices, \n",
    "- The linear system of equations\n",
    "\\begin{gather}\n",
    "    a_{11}x_1 + a_{12}x_2 + a_{13}x_3 &= b_1 \\\\\n",
    "    a_{21}x_1 + a_{22}x_2 + a_{23}x_3 &= b_2 \\\\\n",
    "    a_{31}x_1 + a_{32}x_2 + a_{33}x_3 &= b_3 \n",
    "\\end{gather}\n",
    "\n",
    "- Matrix representation\n",
    "\\begin{gather}\n",
    "    \\begin{pmatrix}\n",
    "    a_{11} & a_{12} & a_{13} \\\\\n",
    "    a_{21} & a_{22} & a_{23} \\\\\n",
    "    a_{31} & a_{32} & a_{33}\n",
    "    \\end{pmatrix}\n",
    "    \\begin{pmatrix}\n",
    "    x_1 \\\\\n",
    "    x_2 \\\\\n",
    "    x_3\n",
    "    \\end{pmatrix} = \n",
    "    \\begin{pmatrix}\n",
    "    b_1 \\\\\n",
    "    b_2 \\\\\n",
    "    b_3\n",
    "    \\end{pmatrix}.\n",
    "\\end{gather}\n",
    "\n",
    "Once the system is written out in the matrix form, we generally try to conmvert the coefficient matrix into an upper triangular form, recording the necessary changes in the right hand matrix too. In order to do that we form an augmented matrix consisting of the columns of the original coefficient matrix and the right hand $b$ column. Then we employ row operations and column operations on the new matrix to convert it into an upper triangular form.\n",
    "\n",
    "\n",
    "- Augmented matrix\n",
    "\\begin{gather}\n",
    "\\begin{pmatrix}\n",
    "a_{11} & a_{12} & a_{13} & b_1 \\\\\n",
    "a_{21} & a_{22} & a_{23} & b_2 \\\\\n",
    "a_{31} & a_{32} & a_{33} & b_3\n",
    "\\end{pmatrix}\n",
    "\\end{gather}\n",
    "\n",
    "- Upper Triangular form\n",
    "\n",
    "$$\n",
    "\\begin{pmatrix}\n",
    "a'_{11} & a'_{12} & a'_{13} & b'_1 \\\\\n",
    "0       & a'_{22} & a'_{23} & b'_2 \\\\\n",
    "0       & 0       & a'_{33} & b'_3\n",
    "\\end{pmatrix}\n",
    "$$\n",
    "\n",
    "\n",
    "The last system can now be easily solved starting from the last equation and the values of $x_i$'s can be calculated by back-substitution. \n",
    "\n",
    "\n",
    "## Equation for Back-Substitution\n",
    "$$\n",
    "x_i = \\frac{b_i^{i-1} - \\sum_{j = i+1}^n a_{ij}^{i-1}x_j}{a_{ii}^{i-1}}\n",
    "$$\n",
    "\n",
    "Here $i$ goes from $n-1$ upto $1$."
   ]
  },
  {
   "cell_type": "markdown",
   "id": "ac9636ca-9bd6-4174-93f4-20665f193c73",
   "metadata": {},
   "source": [
    "# Code that does Naive Gauss Elimination\n",
    "The code is essentially a collection of functions."
   ]
  },
  {
   "cell_type": "code",
   "execution_count": 7,
   "id": "0708ab9b-3d54-42be-87a9-8bd5166d17d8",
   "metadata": {},
   "outputs": [],
   "source": [
    "import numpy as np\n",
    "\n",
    "def concat(A, b):\n",
    "    (m, n) = A.shape\n",
    "    p = b.shape\n",
    "    C = np.eye(m, n+1, dtype=float)\n",
    "    for i in range(0,m):\n",
    "        for j in range(0,n):\n",
    "            C[i][j] = A[i][j]\n",
    "        C[i][j+1] = b[i]    \n",
    "    return C    \n",
    "\n",
    "\n",
    "def GaussNaive(A, b):\n",
    "    (m, n) = A.shape\n",
    "    if (m != n):\n",
    "        print(\"Error! Matrix must be square\")\n",
    "    nb = n + 1\n",
    "    #Aug = np.concatanate((A, b), axis = 1)\n",
    "    Aug = concat(A, b)\n",
    "    print(Aug)\n",
    "    # Forward Elimination\n",
    "    for k in range(0, n-1):\n",
    "        for l in range(k+1, n):\n",
    "            factor = Aug[l][k]/Aug[k][k]\n",
    "            for o in range(k, nb):\n",
    "                Aug[l][o] = Aug[l][o] - factor*Aug[k][o]\n",
    "    print(\"Aug :=\", Aug)\n",
    "    # Back Substitution\n",
    "    x = np.zeros((n, 1), dtype=float)\n",
    "    x[m-1] = Aug[m-1][nb-1]/Aug[m-1][m-1]\n",
    "    for i in range(n-1, -1, -1):\n",
    "        for j in range(i+1, n):\n",
    "            x[i] = (Aug[i][nb-1] - Aug[i][j]*x[j])/Aug[i][i]\n",
    "            #print(x[i])\n",
    "            #print(\"Inside the loop.\")\n",
    "    return x"
   ]
  },
  {
   "cell_type": "markdown",
   "id": "25cc3b9a-55e4-4746-8926-6c383e511754",
   "metadata": {},
   "source": [
    "# Now calling the functions in the code\n",
    "The whole code as needs to be written in the exam is a combination of both parts."
   ]
  },
  {
   "cell_type": "code",
   "execution_count": 8,
   "id": "28883e70-bea0-4200-b31c-8fea4d1102ed",
   "metadata": {},
   "outputs": [
    {
     "name": "stdout",
     "output_type": "stream",
     "text": [
      "A:= [[ 3.  -0.1 -0.2]\n",
      " [ 0.1  7.  -0.3]\n",
      " [ 0.3 -0.2 10. ]]\n",
      "c:= [[  7.85]\n",
      " [-19.3 ]\n",
      " [ 71.4 ]]\n",
      "D:= [[  3.    -0.1   -0.2    7.85]\n",
      " [  0.1    7.    -0.3  -19.3 ]\n",
      " [  0.3   -0.2   10.    71.4 ]]\n",
      "7.85\n",
      "-19.3\n",
      "71.4\n",
      "[[  3.    -0.1   -0.2    7.85]\n",
      " [  0.1    7.    -0.3  -19.3 ]\n",
      " [  0.3   -0.2   10.    71.4 ]]\n",
      "Aug := [[  3.          -0.1         -0.2          7.85      ]\n",
      " [  0.           7.00333333  -0.29333333 -19.56166667]\n",
      " [  0.           0.          10.01204188  70.08429319]]\n",
      "[[ 3.08333333]\n",
      " [-2.5       ]\n",
      " [ 7.        ]]\n"
     ]
    }
   ],
   "source": [
    "A = np.array([[3, -0.1, -0.2], [0.1, 7, -0.3], [0.3, -0.2, 10]])\n",
    "print(\"A:=\", A)\n",
    "b = np.array([[7.85, -19.3, 71.4]])\n",
    "c = np.transpose(b)\n",
    "print(\"c:=\", c)\n",
    "D = concat(A, c)\n",
    "print(\"D:=\", D)\n",
    "for i in range(3):\n",
    "    #for j in range(3):\n",
    "        print(c[i][0])\n",
    "\n",
    "x = GaussNaive(A, c)\n",
    "print(x)"
   ]
  },
  {
   "cell_type": "code",
   "execution_count": null,
   "id": "5e151e62-46c4-4281-ab5f-ae2e417b9b95",
   "metadata": {},
   "outputs": [],
   "source": []
  },
  {
   "cell_type": "markdown",
   "id": "86dbcef0-3393-4e8b-8725-1a787a174c6f",
   "metadata": {},
   "source": [
    "# Summary\n",
    "\n",
    "The above code has two functions: concat(A, b) and GaussNaive(A, b). The GaussNaive function calls concat. It is not called by the actual code. The concat function takes as argument the two matrices A and b and then produces the augmented matrix Aug. The GaussNaive function takes the same two matrices as input and calculates the solution array x. The function uses the forward elimination and back-substitution steps. The driver code defines the A and b matrices and with these as arguments calls the function GaussNaive. The result is printed out at the end."
   ]
  },
  {
   "cell_type": "code",
   "execution_count": null,
   "id": "5d597421-2158-4e82-a8c5-a227febd7e54",
   "metadata": {},
   "outputs": [],
   "source": []
  }
 ],
 "metadata": {
  "kernelspec": {
   "display_name": "Python 3 (ipykernel)",
   "language": "python",
   "name": "python3"
  },
  "language_info": {
   "codemirror_mode": {
    "name": "ipython",
    "version": 3
   },
   "file_extension": ".py",
   "mimetype": "text/x-python",
   "name": "python",
   "nbconvert_exporter": "python",
   "pygments_lexer": "ipython3",
   "version": "3.9.7"
  }
 },
 "nbformat": 4,
 "nbformat_minor": 5
}
